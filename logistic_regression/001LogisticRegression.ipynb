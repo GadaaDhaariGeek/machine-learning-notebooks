{
 "cells": [
  {
   "cell_type": "markdown",
   "metadata": {},
   "source": [
    "# 1. Calculating just sigmoid output"
   ]
  },
  {
   "cell_type": "code",
   "execution_count": 69,
   "metadata": {},
   "outputs": [],
   "source": [
    "import numpy as np\n",
    "np.set_printoptions(suppress=True)\n",
    "import matplotlib.pyplot as plt"
   ]
  },
  {
   "cell_type": "code",
   "execution_count": 60,
   "metadata": {},
   "outputs": [
    {
     "name": "stdout",
     "output_type": "stream",
     "text": [
      "X: \n",
      " [[ 0.20532278 -0.64767434]\n",
      " [ 2.76842735 -2.00844995]\n",
      " [-1.18250723  2.83168028]\n",
      " [ 0.80832092  3.26868615]\n",
      " [ 3.15588573  2.11542426]\n",
      " [ 4.58465056  2.96375368]\n",
      " [ 4.19733759  0.86298356]\n",
      " [ 3.42466183  1.9951582 ]\n",
      " [ 2.01091025 -2.18005277]\n",
      " [ 3.32130804  3.45659666]\n",
      " [ 4.6953939  -2.36260996]\n",
      " [ 0.20525824 -0.55729602]\n",
      " [ 2.11946978  1.34844921]\n",
      " [ 2.00159632  1.09820659]\n",
      " [ 4.40201927 -0.54539832]\n",
      " [ 2.18670292  4.40019708]\n",
      " [ 3.24181649  2.60734954]\n",
      " [ 5.55408705  3.99660048]\n",
      " [ 0.99324551  4.57811408]\n",
      " [ 4.16992817  1.75695359]\n",
      " [ 2.34290842  1.90724723]\n",
      " [ 2.39488172  1.31059348]\n",
      " [ 2.21774508  3.28398735]\n",
      " [-1.55099564 -1.84432314]\n",
      " [ 1.62498816  4.19524906]\n",
      " [ 2.92178528  3.92588406]\n",
      " [ 5.08321253 -1.15143404]\n",
      " [ 3.12114519  0.16671228]\n",
      " [ 0.8084847   0.9132498 ]\n",
      " [ 6.74607486  2.7934931 ]\n",
      " [ 4.72520552  1.98222107]\n",
      " [ 0.8185099   5.49268911]\n",
      " [-1.0583952   1.04057094]\n",
      " [-0.18399958  2.32238173]\n",
      " [ 2.84747306 -0.23467103]\n",
      " [ 0.52565491  2.73341631]\n",
      " [ 1.05653815  2.57330391]\n",
      " [ 0.69909565  0.98531974]\n",
      " [ 4.27513304  3.496802  ]\n",
      " [-3.07739346  1.7140494 ]]\n"
     ]
    }
   ],
   "source": [
    "N = 40\n",
    "D = 2\n",
    "\n",
    "# sampling data from standard normal distribution\n",
    "X = np.random.normal(loc=2, scale=2, size=(N, D))\n",
    "\n",
    "print(\"X: \\n\", X)"
   ]
  },
  {
   "cell_type": "code",
   "execution_count": 22,
   "metadata": {},
   "outputs": [
    {
     "name": "stdout",
     "output_type": "stream",
     "text": [
      "Sigmoid z: \n",
      " [0.96116168 0.01511071 0.14578868 0.04532634 0.88475327 0.96767261\n",
      " 0.00526324 0.00428161 0.00022851 0.04974766 0.12371015 0.00367949\n",
      " 0.88888788 0.97689937 0.00815723 0.79442034 0.11044315 0.66187329\n",
      " 0.26956928 0.0000003  0.2459833  0.00070337 0.00008715 0.00276152\n",
      " 0.80758855 0.92790028 0.01224603 0.00563386 0.0000001  0.00001367\n",
      " 0.02440459 0.59386289 0.02291128 0.00104914 0.97108536 0.00311449\n",
      " 0.00060478 0.27447031 0.01498507 0.76437845]\n"
     ]
    }
   ],
   "source": [
    "# Adding the bias\n",
    "ones = np.ones((N, 1))\n",
    "\n",
    "# concatenating the bias \n",
    "X_b = np.hstack((ones, X))\n",
    "\n",
    "# random weights \n",
    "w = np.random.randn(D+1)\n",
    "\n",
    "# output \n",
    "z = X_b.dot(w)\n",
    "\n",
    "# calculating sigmoid \n",
    "def sigmoid(z):\n",
    "    return 1 / (1 + np.exp(-z))\n",
    "\n",
    "print(\"Sigmoid z: \\n\", sigmoid(z))"
   ]
  },
  {
   "cell_type": "code",
   "execution_count": 23,
   "metadata": {},
   "outputs": [],
   "source": [
    "# All the values above are less than 1"
   ]
  },
  {
   "cell_type": "markdown",
   "metadata": {},
   "source": [
    "# 2. Calculating cross entropy"
   ]
  },
  {
   "cell_type": "code",
   "execution_count": 61,
   "metadata": {},
   "outputs": [],
   "source": [
    "N = 100\n",
    "D = 2\n",
    "\n",
    "# sample from std. normal disb. \n",
    "X = np.random.randn(N, D)\n",
    "\n",
    "# center the first 50 points around (-2, -2)\n",
    "X[:50, :] = X[:50, :] - 2*np.ones((50, D))\n",
    "\n",
    "# center the last 50 points around (2, 2)\n",
    "X[50:, :] = X[50:, :] + 2*np.ones((50, D))\n",
    "\n",
    "# making the y_true - first 50 points to be 0 and last 50 to be 1\n",
    "y_true = np.array([0]*50 + [1]*50)\n",
    "\n",
    "# adding the bias term\n",
    "X_b = np.hstack((np.ones((N, 1)), X))\n",
    "\n",
    "# random weights\n",
    "w = np.random.randn(D+1)\n",
    "# w = np.random.randn(D+1) / np.sqrt(D)\n",
    "\n",
    "# Calculating the model output\n",
    "z = X_b.dot(w)\n",
    "\n",
    "# define sigmoid \n",
    "def sigmoid(z):\n",
    "    return 1 / (1 + np.exp(-z))\n",
    "\n",
    "# calculating th predicted values\n",
    "y_hat = sigmoid(z)"
   ]
  },
  {
   "cell_type": "code",
   "execution_count": 62,
   "metadata": {},
   "outputs": [],
   "source": [
    "# calculating the cross entropy error \n",
    "def cross_entropy(y_true, y_hat):\n",
    "    E = 0\n",
    "    for i in range(len(y_true)):\n",
    "        if y_true[i] == 1:\n",
    "            E = E - np.log(y_hat[i])\n",
    "        elif y_true[i] == 0:\n",
    "            E -= np.log(1 - y_hat[i])\n",
    "    return E"
   ]
  },
  {
   "cell_type": "code",
   "execution_count": 63,
   "metadata": {},
   "outputs": [
    {
     "name": "stdout",
     "output_type": "stream",
     "text": [
      "Error with random weights:  7.240260284028676\n"
     ]
    }
   ],
   "source": [
    "print(\"Error with random weights: \", cross_entropy(y_true, y_hat))"
   ]
  },
  {
   "cell_type": "code",
   "execution_count": 64,
   "metadata": {},
   "outputs": [
    {
     "name": "stdout",
     "output_type": "stream",
     "text": [
      "Error with closed form solution:  0.025515605708444716\n"
     ]
    }
   ],
   "source": [
    "# Calculating with the closed form solution\n",
    "w = np.array([0, 4, 4])\n",
    "z = X_b.dot(w)\n",
    "y_hat = sigmoid(z)\n",
    "\n",
    "print(\"Error with closed form solution: \", cross_entropy(y_true, y_hat))"
   ]
  },
  {
   "cell_type": "code",
   "execution_count": 44,
   "metadata": {},
   "outputs": [],
   "source": [
    "# It seems the closed form solution performs better as we already know it"
   ]
  },
  {
   "cell_type": "markdown",
   "metadata": {},
   "source": [
    "# 3. Learning the optimal weights using Gradient Descent"
   ]
  },
  {
   "cell_type": "code",
   "execution_count": 81,
   "metadata": {},
   "outputs": [],
   "source": [
    "N = 100\n",
    "D = 2\n",
    "\n",
    "N_per_class = N//2\n",
    "# N_per_class = np.floor(N/2)\n",
    "\n",
    "X = np.random.randn(N,D)\n",
    "\n",
    "# center the first 50 points at (-2,-2)\n",
    "X[:N_per_class,:] = X[:N_per_class,:] - 2*np.ones((N_per_class,D))\n",
    "\n",
    "# center the last 50 points at (2, 2)\n",
    "X[N_per_class:,:] = X[N_per_class:,:] + 2*np.ones((N_per_class,D))\n",
    "\n",
    "# labels: first N_per_class are 0, last N_per_class are 1\n",
    "T = np.array([0]*N_per_class + [1]*N_per_class)\n",
    "\n",
    "# add a column of ones\n",
    "# ones = np.array([[1]*N]).T # old\n",
    "ones = np.ones((N, 1))\n",
    "Xb = np.concatenate((ones, X), axis=1)\n",
    "\n",
    "# randomly initialize the weights\n",
    "w = np.random.randn(D + 1)\n",
    "\n",
    "# calculate the model output\n",
    "z = Xb.dot(w)\n",
    "\n",
    "def sigmoid(z):\n",
    "    return 1/(1 + np.exp(-z))\n",
    "\n",
    "\n",
    "Y = sigmoid(z)"
   ]
  },
  {
   "cell_type": "code",
   "execution_count": 82,
   "metadata": {},
   "outputs": [],
   "source": [
    "# calculate the cross-entropy error\n",
    "def cross_entropy(T, Y):\n",
    "    E = 0\n",
    "    for i in range(len(T)):\n",
    "        if T[i] == 1:\n",
    "            # if true label is 1, then (y_true)*log(y_hat)\n",
    "            E -= np.log(Y[i])\n",
    "        else:\n",
    "            # if true label is 0, then (1 - y_true)*log(1 - y_hat)\n",
    "            E -= np.log(1 - Y[i])\n",
    "    return E\n"
   ]
  },
  {
   "cell_type": "code",
   "execution_count": 83,
   "metadata": {},
   "outputs": [],
   "source": [
    "# NOTE: we can't solve for the optimal weights by taking derivative of cross entropy error and equating it to zero.\n",
    "# so, we use gradient descent to solve for it\n",
    "\n",
    "# We do dellJ / dellW which finally comes to => (y - t)*x"
   ]
  },
  {
   "cell_type": "code",
   "execution_count": 84,
   "metadata": {},
   "outputs": [
    {
     "name": "stdout",
     "output_type": "stream",
     "text": [
      "199.7839033116856\n",
      "3.960638049304706e-06\n",
      "3.960616383549689e-06\n",
      "3.960594717905697e-06\n",
      "3.960573052594773e-06\n",
      "3.9605513875058944e-06\n",
      "3.960529722750085e-06\n",
      "3.960508058105299e-06\n",
      "3.960486393460514e-06\n",
      "3.960464729481865e-06\n",
      "Final w: [ 0.23210267 16.24260708 16.59463504]\n"
     ]
    }
   ],
   "source": [
    "# let's do gradient descent 100 times\n",
    "learning_rate = 0.1\n",
    "for i in range(100):\n",
    "    if i % 10 == 0:\n",
    "        print(cross_entropy(T, Y))\n",
    "\n",
    "    # gradient descent weight udpate\n",
    "    w -= learning_rate * Xb.T.dot(Y-T)\n",
    "\n",
    "    # recalculate Y\n",
    "    Y = sigmoid(Xb.dot(w))\n",
    "\n",
    "\n",
    "print(\"Final w:\", w)"
   ]
  },
  {
   "cell_type": "code",
   "execution_count": 85,
   "metadata": {},
   "outputs": [
    {
     "data": {
      "image/png": "[encoded data removed]",
      "text/plain": [
       "<Figure size 432x288 with 1 Axes>"
      ]
     },
     "metadata": {
      "needs_background": "light"
     },
     "output_type": "display_data"
    }
   ],
   "source": [
    "# plot the data and separating line\n",
    "plt.scatter(X[:,0], X[:,1], c=T, s=100, alpha=0.5, edgecolor=\"black\")\n",
    "x_axis = np.linspace(-6, 6, 100)\n",
    "y_axis = -(w[0] + x_axis*w[1]) / w[2]\n",
    "plt.plot(x_axis, y_axis, c=\"green\")\n",
    "plt.show()"
   ]
  },
  {
   "cell_type": "code",
   "execution_count": null,
   "metadata": {},
   "outputs": [],
   "source": []
  }
 ],
 "metadata": {
  "kernelspec": {
   "display_name": "Python 3",
   "language": "python",
   "name": "python3"
  },
  "language_info": {
   "codemirror_mode": {
    "name": "ipython",
    "version": 3
   },
   "file_extension": ".py",
   "mimetype": "text/x-python",
   "name": "python",
   "nbconvert_exporter": "python",
   "pygments_lexer": "ipython3",
   "version": "3.7.6"
  }
 },
 "nbformat": 4,
 "nbformat_minor": 4
}
