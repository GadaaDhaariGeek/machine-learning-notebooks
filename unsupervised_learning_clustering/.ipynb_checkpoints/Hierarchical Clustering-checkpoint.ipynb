{
 "cells": [
  {
   "cell_type": "markdown",
   "metadata": {},
   "source": [
    "# 1. Dendrogram based clustering"
   ]
  },
  {
   "cell_type": "code",
   "execution_count": 1,
   "metadata": {},
   "outputs": [],
   "source": [
    "# Agglomerative Clustering - A greedy algorithm\n",
    "# We use dendograms to visualize the heirarchical clustering\n",
    "# For the clustering part we can use various distance metrics\n",
    "\n",
    "# Also, we have to think how do we going to join the clusters ? \n",
    "# we have single-linkage - use minimum distance between any 2 points in two clusters. Disadvantage is chain effect \n",
    "# Complete-linkage - use maximum distance between any 2 points in two clusters. \n",
    "# MEan distance (UPGMA) - mean of distances between all the points in two clusters\n",
    "# Ward's criterion - minimum increase in variance after joining them together"
   ]
  },
  {
   "cell_type": "code",
   "execution_count": 2,
   "metadata": {},
   "outputs": [],
   "source": [
    "import numpy as np\n",
    "import matplotlib\n",
    "import matplotlib.pyplot as plt\n",
    "\n",
    "from scipy.cluster.hierarchy import dendrogram, linkage"
   ]
  },
  {
   "cell_type": "code",
   "execution_count": 3,
   "metadata": {},
   "outputs": [
    {
     "name": "stdout",
     "output_type": "stream",
     "text": [
      "Z.shape: (899, 4)\n"
     ]
    }
   ],
   "source": [
    "# Creating data \n",
    "D = 2\n",
    "s = 0\n",
    "\n",
    "mu1 = np.array([0, 0])\n",
    "mu2 = np.array([s, s])\n",
    "mu3 = np.array([0, s])\n",
    "\n",
    "N = 900 # number of samples\n",
    "X = np.zeros((N, D))\n",
    "X[:300, :] = np.random.randn(300, D) + mu1\n",
    "X[300:600, :] = np.random.randn(300, D) + mu2\n",
    "X[600:, :] = np.random.randn(300, D) + mu3\n",
    "\n",
    "Z = linkage(X, 'ward')\n",
    "print(\"Z.shape:\", Z.shape)\n",
    "\n",
    "# Z has the format [idx1, idx2, dist, sample_count]\n",
    "# therefore, its size will be (N-1, 4)"
   ]
  },
  {
   "cell_type": "code",
   "execution_count": 4,
   "metadata": {},
   "outputs": [
    {
     "data": {
      "image/png": "[encoded data removed]",
      "text/plain": [
       "<Figure size 432x288 with 1 Axes>"
      ]
     },
     "metadata": {
      "needs_background": "light"
     },
     "output_type": "display_data"
    }
   ],
   "source": [
    "# from documentation:\n",
    "# A (n-1) by 4 matrix Z is returned. At the i-th iteration,\n",
    "# clusters with indices Z[i, 0] and Z[i, 1] are combined to\n",
    "# form cluster n + i. A cluster with an index less than n\n",
    "# corresponds to one of the original observations.\n",
    "# The distance between clusters Z[i, 0] and Z[i, 1] is given\n",
    "# by Z[i, 2]. The fourth value Z[i, 3] represents the number\n",
    "# of original observations in the newly formed cluster.\n",
    "# plt.figure(figsize=(8, 12))\n",
    "plt.title(\"Ward\")\n",
    "dendrogram(Z)\n",
    "plt.show()"
   ]
  },
  {
   "cell_type": "code",
   "execution_count": null,
   "metadata": {},
   "outputs": [],
   "source": [
    "# We can see chaining effect happening here\n",
    "Z = linkage(X, 'single')\n",
    "# plt.figure(figsize=(8, 12))\n",
    "plt.title(\"Single\")\n",
    "dendrogram(Z)\n",
    "plt.show()"
   ]
  },
  {
   "cell_type": "code",
   "execution_count": null,
   "metadata": {},
   "outputs": [],
   "source": [
    "Z = linkage(X, 'complete')\n",
    "# plt.figure(figsize=(8, 12))\n",
    "plt.title(\"Complete\")\n",
    "dendrogram(Z)\n",
    "plt.show()"
   ]
  },
  {
   "cell_type": "code",
   "execution_count": null,
   "metadata": {},
   "outputs": [],
   "source": []
  },
  {
   "cell_type": "code",
   "execution_count": null,
   "metadata": {},
   "outputs": [],
   "source": []
  },
  {
   "cell_type": "markdown",
   "metadata": {},
   "source": [
    "# 2. Simulating Evolution using Heirarchical Clustering"
   ]
  },
  {
   "cell_type": "code",
   "execution_count": null,
   "metadata": {},
   "outputs": [],
   "source": [
    "import random\n",
    "import numpy as np\n",
    "import scipy.spatial.distance as ssd\n",
    "import matplotlib.pyplot as plt\n",
    "from scipy.cluster.hierarchy import dendrogram, linkage\n",
    "\n",
    "\n",
    "# our genetic code\n",
    "code = ['A', 'T', 'C', 'G']\n",
    "\n",
    "\n",
    "# convert list of integers to corresponding letters\n",
    "def to_code(a):\n",
    "  return [code[i] for i in a]\n",
    "\n",
    "\n",
    "# distance between 2 DNA strands\n",
    "def dist(a, b):\n",
    "  return sum(i != j for i, j in zip(a, b))\n",
    "\n",
    "\n",
    "# generate offspring by modifying some characters in the code\n",
    "def generate_offspring(parent):\n",
    "  return [maybe_modify(c) for c in parent]\n",
    "\n",
    "\n",
    "# modify letter c with probability ~1/1000\n",
    "def maybe_modify(c):\n",
    "  if np.random.random() < 0.001:\n",
    "    return np.random.choice(code)\n",
    "  return c"
   ]
  },
  {
   "cell_type": "code",
   "execution_count": null,
   "metadata": {},
   "outputs": [],
   "source": [
    "# create 3 distinct ancestors\n",
    "p1 = to_code(np.random.randint(4, size=1000))\n",
    "p2 = to_code(np.random.randint(4, size=1000))\n",
    "p3 = to_code(np.random.randint(4, size=1000))"
   ]
  },
  {
   "cell_type": "code",
   "execution_count": null,
   "metadata": {},
   "outputs": [],
   "source": [
    "# create offspring\n",
    "num_generations = 99\n",
    "max_offspring_per_generation = 1000\n",
    "current_generation = [p1, p2, p3]\n",
    "\n",
    "for i in range(num_generations):\n",
    "    \n",
    "  next_generation = []\n",
    "  for parent in current_generation:\n",
    "    # each parent will have between 1 and 3 children\n",
    "    num_offspring = np.random.randint(3) + 1\n",
    "\n",
    "    # generate the offspring\n",
    "    for _ in range(num_offspring):\n",
    "      child = generate_offspring(parent)\n",
    "      next_generation.append(child)\n",
    "\n",
    "  current_generation = next_generation\n",
    "\n",
    "  # limit the number of offspring\n",
    "  random.shuffle(current_generation)\n",
    "  current_generation = current_generation[:max_offspring_per_generation]\n",
    "\n",
    "  print(\"Finished creating generation %d / %d, size = %d\" % (i + 2, num_generations + 1, len(current_generation)))"
   ]
  },
  {
   "cell_type": "code",
   "execution_count": null,
   "metadata": {},
   "outputs": [],
   "source": [
    "# create distance matrix\n",
    "# note: you can also use scipy's pdist for this\n",
    "# but NOT sklearn's pairwise_distances function\n",
    "# which does not return a symmetric matrix\n",
    "N = len(current_generation)\n",
    "dist_matrix = np.zeros((N, N))\n",
    "for i in range(N):\n",
    "  for j in range(N):\n",
    "    if i == j:\n",
    "      continue\n",
    "    elif j > i:\n",
    "      a = current_generation[i]\n",
    "      b = current_generation[j]\n",
    "      dist_matrix[i,j] = dist(a, b)\n",
    "    else:\n",
    "      dist_matrix[i,j] = dist_matrix[j,i]\n",
    "\n",
    "dist_array = ssd.squareform(dist_matrix)"
   ]
  },
  {
   "cell_type": "code",
   "execution_count": null,
   "metadata": {},
   "outputs": [],
   "source": [
    "Z = linkage(dist_array, 'ward')\n",
    "# plt.figure(figsize=(8, 12))\n",
    "plt.title(\"Ward\")\n",
    "dendrogram(Z)\n",
    "plt.show()"
   ]
  },
  {
   "cell_type": "code",
   "execution_count": null,
   "metadata": {},
   "outputs": [],
   "source": [
    "Z = linkage(dist_array, 'single')\n",
    "plt.figure(figsize=(8, 12))\n",
    "plt.title(\"Single\")\n",
    "dendrogram(Z)\n",
    "plt.show()"
   ]
  },
  {
   "cell_type": "code",
   "execution_count": null,
   "metadata": {},
   "outputs": [],
   "source": [
    "Z = linkage(dist_array, 'complete')\n",
    "# plt.figure(figsize=(8, 12))\n",
    "plt.title(\"Complete\")\n",
    "dendrogram(Z)\n",
    "plt.show()"
   ]
  },
  {
   "cell_type": "markdown",
   "metadata": {},
   "source": [
    "# 3. Applying Hierarchical Clustering on tweets"
   ]
  },
  {
   "cell_type": "code",
   "execution_count": null,
   "metadata": {},
   "outputs": [],
   "source": [
    "import re\n",
    "import numpy as np\n",
    "import pandas as pd\n",
    "import matplotlib.pyplot as plt\n",
    "\n",
    "from scipy.spatial.distance import pdist\n",
    "from scipy.cluster.hierarchy import dendrogram, linkage, fcluster\n",
    "from sklearn.feature_extraction.text import TfidfVectorizer\n",
    "# from sklearn.metrics.pairwise import pairwise_distances ### fast, but result not symmetri"
   ]
  },
  {
   "cell_type": "code",
   "execution_count": null,
   "metadata": {},
   "outputs": [],
   "source": [
    "# load stopwords\n",
    "# selected after observing results without stopwords\n",
    "stopwords = [\n",
    "  'the',\n",
    "  'about',\n",
    "  'an',\n",
    "  'and',\n",
    "  'are',\n",
    "  'at',\n",
    "  'be',\n",
    "  'can',\n",
    "  'for',\n",
    "  'from',\n",
    "  'if',\n",
    "  'in',\n",
    "  'is',\n",
    "  'it',\n",
    "  'of',\n",
    "  'on',\n",
    "  'or',\n",
    "  'that',\n",
    "  'this',\n",
    "  'to',\n",
    "  'you',\n",
    "  'your',\n",
    "  'with',\n",
    "]"
   ]
  },
  {
   "cell_type": "code",
   "execution_count": null,
   "metadata": {},
   "outputs": [],
   "source": [
    "# find urls and twitter usernames within a string\n",
    "url_finder = re.compile(r\"(?:\\@|https?\\://)\\S+\")\n",
    "\n",
    "\n",
    "def filter_tweet(s):\n",
    "  s = s.lower() # downcase\n",
    "  s = url_finder.sub(\"\", s) # remove urls and usernames\n",
    "  return s"
   ]
  },
  {
   "cell_type": "code",
   "execution_count": null,
   "metadata": {},
   "outputs": [],
   "source": [
    "### load data ###\n",
    "df = pd.read_csv('./data/tweets.csv')\n",
    "text = df.text.tolist()\n",
    "text = [filter_tweet(s) for s in text]\n",
    "\n",
    "\n",
    "# transform the text into a data matrix\n",
    "tfidf = TfidfVectorizer(max_features=100, stop_words=stopwords)\n",
    "X = tfidf.fit_transform(text).todense()\n",
    "\n",
    "\n",
    "# subsample for efficiency\n",
    "# remember: calculating distances is O(N^2)\n",
    "N = X.shape[0]\n",
    "idx = np.random.choice(N, size=2000, replace=False)\n",
    "x = X[idx]\n",
    "labels = df.handle[idx].tolist()"
   ]
  },
  {
   "cell_type": "code",
   "execution_count": null,
   "metadata": {},
   "outputs": [],
   "source": [
    "# proportions of each label\n",
    "# so we can be confident that each is represented equally\n",
    "pTrump = sum(1.0 if e == 'realDonaldTrump' else 0.0 for e in labels) / len(labels)\n",
    "print(\"proportion @realDonaldTrump: %.3f\" % pTrump)\n",
    "print(\"proportion @HillaryClinton: %.3f\" % (1 - pTrump))"
   ]
  },
  {
   "cell_type": "code",
   "execution_count": null,
   "metadata": {},
   "outputs": [],
   "source": [
    "# transform the data matrix into pairwise distances list\n",
    "dist_array = pdist(x)"
   ]
  },
  {
   "cell_type": "code",
   "execution_count": null,
   "metadata": {},
   "outputs": [],
   "source": [
    "# calculate hierarchy\n",
    "Z = linkage(dist_array, 'ward')\n",
    "plt.title(\"Ward\")\n",
    "dendrogram(Z, labels=labels)\n",
    "plt.show()"
   ]
  },
  {
   "cell_type": "code",
   "execution_count": null,
   "metadata": {},
   "outputs": [],
   "source": [
    "### hits max recursion depth\n",
    "# Z = linkage(dist_array, 'single')\n",
    "# plt.title(\"Single\")\n",
    "# dendrogram(Z, labels=labels)\n",
    "# plt.show()\n",
    "\n",
    "# Z = linkage(dist_array, 'complete')\n",
    "# plt.title(\"Complete\")\n",
    "# dendrogram(Z, labels=labels)\n",
    "# plt.show()"
   ]
  },
  {
   "cell_type": "code",
   "execution_count": null,
   "metadata": {},
   "outputs": [],
   "source": [
    "# convert labels to (1, 2), not (0, 1)\n",
    "# since that's what's returned by fcluster\n",
    "Y = np.array([1 if e == 'realDonaldTrump' else 2 for e in labels])"
   ]
  },
  {
   "cell_type": "code",
   "execution_count": null,
   "metadata": {},
   "outputs": [],
   "source": [
    "# get cluster assignments\n",
    "# threshold 9 was chosen empirically to yield 2 clusters\n",
    "C = fcluster(Z, 9, criterion='distance') # returns 1, 2, ..., K\n",
    "categories = set(C)\n",
    "# sanity check: should be {1, 2}\n",
    "print(\"values in C:\", categories)"
   ]
  },
  {
   "cell_type": "code",
   "execution_count": null,
   "metadata": {},
   "outputs": [],
   "source": [
    "### calculate the purity of our clusters ###\n",
    "def purity(true_labels, cluster_assignments, categories):\n",
    "  # maximum purity is 1, higher is better\n",
    "  N = len(true_labels)\n",
    "\n",
    "  total = 0.0\n",
    "  for k in categories:\n",
    "    max_intersection = 0\n",
    "    for j in categories:\n",
    "      intersection = ((cluster_assignments == k) & (true_labels == j)).sum()\n",
    "      if intersection > max_intersection:\n",
    "        max_intersection = intersection\n",
    "    total += max_intersection\n",
    "  return total / N"
   ]
  },
  {
   "cell_type": "code",
   "execution_count": null,
   "metadata": {},
   "outputs": [],
   "source": [
    "# What purity suggests ?\n",
    "print(\"purity:\", purity(Y, C, categories))"
   ]
  },
  {
   "cell_type": "code",
   "execution_count": null,
   "metadata": {},
   "outputs": [],
   "source": [
    "# we know the smaller cluster is the trump cluster\n",
    "#\n",
    "# important note: we call it the trump cluster from\n",
    "# observing AFTER the fact that most tweets in this\n",
    "# cluster are by trump\n",
    "# we do NOT use those labels to create the cluster\n",
    "#\n",
    "# we create the clusters using a distance-based\n",
    "# algorithm which knows nothing about the labels,\n",
    "# just the tf-idf scores.\n",
    "#\n",
    "# it just so happens that most of the tweets in\n",
    "# one of the clusters is by trump, and that this\n",
    "# cluster is very small\n",
    "if (C == 1).sum() < (C == 2).sum():\n",
    "  d = 1\n",
    "  h = 2\n",
    "else:\n",
    "  d = 2\n",
    "  h = 1\n",
    "\n",
    "actually_donald = ((C == d) & (Y == 1)).sum()\n",
    "donald_cluster_size = (C == d).sum()\n",
    "print(\"purity of @realDonaldTrump cluster:\", float(actually_donald) / donald_cluster_size)\n",
    "\n",
    "actually_hillary = ((C == h) & (Y == 2)).sum()\n",
    "hillary_cluster_size = (C == h).sum()\n",
    "print(\"purity of @HillaryClinton cluster:\", float(actually_hillary) / hillary_cluster_size)"
   ]
  },
  {
   "cell_type": "code",
   "execution_count": null,
   "metadata": {},
   "outputs": [],
   "source": [
    "# just for interest, how would a classifier do?\n",
    "# note: classification is always easier\n",
    "from sklearn.ensemble import RandomForestClassifier\n",
    "\n",
    "rf = RandomForestClassifier()\n",
    "rf.fit(X, df.handle)\n",
    "print(\"classifier score:\", rf.score(X, df.handle))"
   ]
  },
  {
   "cell_type": "code",
   "execution_count": null,
   "metadata": {},
   "outputs": [],
   "source": [
    "from sklearn.metrics import classification_report\n",
    "print(classification_report(y_true=df.handle, y_pred=rf.predict(X)))"
   ]
  },
  {
   "cell_type": "code",
   "execution_count": null,
   "metadata": {},
   "outputs": [],
   "source": [
    "# same as mnist\n",
    "# classifier yields almost 100% accuracy\n",
    "# but purity of clustering is much lower\n",
    "\n",
    "\n",
    "\n",
    "# what words have the highest tf-idf in cluster 1? in cluster 2?\n",
    "w2i = tfidf.vocabulary_"
   ]
  },
  {
   "cell_type": "code",
   "execution_count": null,
   "metadata": {},
   "outputs": [],
   "source": [
    "# tf-idf vectorizer todense() returns a matrix rather than array\n",
    "# matrix always wants to be 2-D, so we convert to array in order to flatten\n",
    "d_avg = np.array(x[C == d].mean(axis=0)).flatten()\n",
    "d_sorted = sorted(w2i.keys(), key=lambda w: -d_avg[w2i[w]])\n",
    "\n",
    "print(\"\\nTop 10 'Donald cluster' words:\")\n",
    "print(\"\\n\".join(d_sorted[:10]))"
   ]
  },
  {
   "cell_type": "code",
   "execution_count": null,
   "metadata": {},
   "outputs": [],
   "source": [
    "h_avg = np.array(x[C == h].mean(axis=0)).flatten()\n",
    "h_sorted = sorted(w2i.keys(), key=lambda w: -h_avg[w2i[w]])\n",
    "\n",
    "print(\"\\nTop 10 'Hillary cluster' words:\")\n",
    "print(\"\\n\".join(h_sorted[:10]))"
   ]
  }
 ],
 "metadata": {
  "kernelspec": {
   "display_name": "Python 3",
   "language": "python",
   "name": "python3"
  },
  "language_info": {
   "codemirror_mode": {
    "name": "ipython",
    "version": 3
   },
   "file_extension": ".py",
   "mimetype": "text/x-python",
   "name": "python",
   "nbconvert_exporter": "python",
   "pygments_lexer": "ipython3",
   "version": "3.7.6"
  }
 },
 "nbformat": 4,
 "nbformat_minor": 4
}
